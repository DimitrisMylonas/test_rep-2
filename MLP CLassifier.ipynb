{
 "cells": [
  {
   "cell_type": "code",
   "execution_count": 1,
   "id": "26ddefa0-0175-4dc0-9d73-0d39d89a94fc",
   "metadata": {},
   "outputs": [],
   "source": [
    "from sklearn import datasets, metrics, model_selection\n",
    "import pandas as pd\n",
    "import numpy as np\n",
    "from sklearn.neural_network import MLPClassifier\n",
    "from sklearn.model_selection import train_test_split\n",
    "from sklearn.preprocessing import StandardScaler\n",
    "import pickle"
   ]
  },
  {
   "cell_type": "code",
   "execution_count": 2,
   "id": "b2d655aa-ee61-4858-a09c-8f121db62c2c",
   "metadata": {},
   "outputs": [],
   "source": [
    "diabetes = datasets.load_breast_cancer()"
   ]
  },
  {
   "cell_type": "code",
   "execution_count": 3,
   "id": "db7a2567-6bf8-44a6-a1b4-df731e9f7346",
   "metadata": {},
   "outputs": [],
   "source": [
    "X = diabetes.data\n",
    "y = diabetes.target"
   ]
  },
  {
   "cell_type": "code",
   "execution_count": 4,
   "id": "9bf6ee0a-13b0-4f0e-85b2-a554b6917c17",
   "metadata": {},
   "outputs": [],
   "source": [
    "X_train, X_test, y_train, y_test = train_test_split(X, y, test_size=0.25)"
   ]
  },
  {
   "cell_type": "code",
   "execution_count": 5,
   "id": "01311619-eeb0-4757-a0b7-52f1c315712f",
   "metadata": {},
   "outputs": [],
   "source": [
    "sc = StandardScaler()\n",
    "sc.fit(X_train)\n",
    "X_train_std = sc.transform(X_train)\n",
    "X_test_std = sc.transform(X_test)"
   ]
  },
  {
   "cell_type": "code",
   "execution_count": 6,
   "id": "c5f8c866-d38f-421f-a29b-5785a4d1f067",
   "metadata": {},
   "outputs": [],
   "source": [
    "model = MLPClassifier(hidden_layer_sizes=(10), activation='relu', solver='sgd', max_iter=100, random_state=0, tol=0.0001)"
   ]
  },
  {
   "cell_type": "code",
   "execution_count": 7,
   "id": "cbd9d1e1-6a4c-4b47-9a0a-5aa39b0adbf7",
   "metadata": {},
   "outputs": [
    {
     "name": "stderr",
     "output_type": "stream",
     "text": [
      "C:\\Users\\dimit\\AppData\\Local\\Programs\\Python\\Python39\\lib\\site-packages\\sklearn\\neural_network\\_multilayer_perceptron.py:692: ConvergenceWarning: Stochastic Optimizer: Maximum iterations (100) reached and the optimization hasn't converged yet.\n",
      "  warnings.warn(\n"
     ]
    },
    {
     "data": {
      "text/plain": [
       "MLPClassifier(hidden_layer_sizes=10, max_iter=100, random_state=0, solver='sgd')"
      ]
     },
     "execution_count": 7,
     "metadata": {},
     "output_type": "execute_result"
    }
   ],
   "source": [
    "model.fit(X_train_std, y_train)\n",
    "\n",
    "with open(\"model.pkl\", \"wb\") as f:\n",
    "    pickle.dump(model, f)"
   ]
  },
  {
   "cell_type": "code",
   "execution_count": 8,
   "id": "965c9148-df95-41ff-9eab-2cc9e76c1ed5",
   "metadata": {},
   "outputs": [],
   "source": [
    "y_predicted = model.predict(X_test_std)"
   ]
  },
  {
   "cell_type": "code",
   "execution_count": 9,
   "id": "d5daab07-c046-4b06-9270-8369555b7ca4",
   "metadata": {},
   "outputs": [
    {
     "name": "stdout",
     "output_type": "stream",
     "text": [
      "Recall: 0.904477\n",
      "Precision Score: 0.936394\n",
      "Accuracy: 0.930070\n",
      "F1: 0.917929\n"
     ]
    }
   ],
   "source": [
    "print(\"Recall: %2f\" % metrics.recall_score(y_test, y_predicted, average = 'macro', zero_division=1))\n",
    "print(\"Precision Score: %2f\"% metrics.precision_score(y_test, y_predicted, average = 'macro', zero_division=1))\n",
    "print(\"Accuracy: %2f\" % metrics.accuracy_score(y_test, y_predicted))\n",
    "print(\"F1: %2f\" % metrics.f1_score(y_test, y_predicted, average ='macro'))"
   ]
  },
  {
   "cell_type": "code",
   "execution_count": null,
   "id": "4df1bbe3-e7ff-4901-a401-62e7410ed1ec",
   "metadata": {},
   "outputs": [],
   "source": [
    "metrics = {\n",
    "    \"accuracy\": accuracy_score(y_test, model.predict(X_test)),\n",
    "    \"precision\": precision_score(y_test, model.predict(X_test), average=\"weighted\"),\n",
    "    \"recall\": recall_score(y_test, model.predict(X_test), average=\"weighted\"),\n",
    "    \"f1_score\": f1_score(y_test, model.predict(X_test), average=\"weighted\"),\n",
    "}\n",
    "\n",
    "pd.DataFrame([metrics]).to_csv(\"metrics.csv\", index=False)"
   ]
  },
  {
   "cell_type": "code",
   "execution_count": null,
   "id": "2ad9f174-8484-453b-81ed-d293caeb5561",
   "metadata": {},
   "outputs": [],
   "source": []
  }
 ],
 "metadata": {
  "kernelspec": {
   "display_name": "Python 3 (ipykernel)",
   "language": "python",
   "name": "python3"
  },
  "language_info": {
   "codemirror_mode": {
    "name": "ipython",
    "version": 3
   },
   "file_extension": ".py",
   "mimetype": "text/x-python",
   "name": "python",
   "nbconvert_exporter": "python",
   "pygments_lexer": "ipython3",
   "version": "3.9.7"
  }
 },
 "nbformat": 4,
 "nbformat_minor": 5
}
